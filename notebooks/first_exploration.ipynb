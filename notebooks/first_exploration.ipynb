{
 "cells": [
  {
   "cell_type": "code",
   "execution_count": 1,
   "id": "76bba6b0",
   "metadata": {},
   "outputs": [],
   "source": [
    "import polars as pl"
   ]
  },
  {
   "cell_type": "code",
   "execution_count": 2,
   "id": "d89e1354",
   "metadata": {},
   "outputs": [],
   "source": [
    "DATA_PATH = \"/mnt/c/Users/Sergey/Desktop/VSCode/Study/ai4se_gnusarev_1/data/code-review-dataset-full.xlsx\""
   ]
  },
  {
   "cell_type": "code",
   "execution_count": 4,
   "id": "8deec1fa",
   "metadata": {},
   "outputs": [],
   "source": [
    "df = pl.read_excel(DATA_PATH)"
   ]
  },
  {
   "cell_type": "code",
   "execution_count": 5,
   "id": "33324d27",
   "metadata": {},
   "outputs": [
    {
     "data": {
      "text/html": [
       "<div><style>\n",
       ".dataframe > thead > tr,\n",
       ".dataframe > tbody > tr {\n",
       "  text-align: right;\n",
       "  white-space: pre-wrap;\n",
       "}\n",
       "</style>\n",
       "<small>shape: (5, 2)</small><table border=\"1\" class=\"dataframe\"><thead><tr><th>message</th><th>is_toxic</th></tr><tr><td>str</td><td>i64</td></tr></thead><tbody><tr><td>&quot;This and below assignments als…</td><td>0</td></tr><tr><td>&quot;this should be flavor_id = sel…</td><td>0</td></tr><tr><td>&quot;bool session_adopted_ = false;&quot;</td><td>0</td></tr><tr><td>&quot;nit: Starting C++11, this coul…</td><td>0</td></tr><tr><td>&quot;I am confused.\r\n",
       " \r\n",
       " This is th…</td><td>0</td></tr></tbody></table></div>"
      ],
      "text/plain": [
       "shape: (5, 2)\n",
       "┌─────────────────────────────────┬──────────┐\n",
       "│ message                         ┆ is_toxic │\n",
       "│ ---                             ┆ ---      │\n",
       "│ str                             ┆ i64      │\n",
       "╞═════════════════════════════════╪══════════╡\n",
       "│ This and below assignments als… ┆ 0        │\n",
       "│ this should be flavor_id = sel… ┆ 0        │\n",
       "│ bool session_adopted_ = false;  ┆ 0        │\n",
       "│ nit: Starting C++11, this coul… ┆ 0        │\n",
       "│ I am confused.\n",
       "                 ┆ 0        │\n",
       "│  \n",
       "                              ┆          │\n",
       "│  This is th…                    ┆          │\n",
       "└─────────────────────────────────┴──────────┘"
      ]
     },
     "execution_count": 5,
     "metadata": {},
     "output_type": "execute_result"
    }
   ],
   "source": [
    "df.head(5)"
   ]
  },
  {
   "cell_type": "code",
   "execution_count": 8,
   "id": "59f4eadf",
   "metadata": {},
   "outputs": [
    {
     "data": {
      "text/html": [
       "<div><style>\n",
       ".dataframe > thead > tr,\n",
       ".dataframe > tbody > tr {\n",
       "  text-align: right;\n",
       "  white-space: pre-wrap;\n",
       "}\n",
       "</style>\n",
       "<small>shape: (9, 3)</small><table border=\"1\" class=\"dataframe\"><thead><tr><th>statistic</th><th>message</th><th>is_toxic</th></tr><tr><td>str</td><td>str</td><td>f64</td></tr></thead><tbody><tr><td>&quot;count&quot;</td><td>&quot;19647&quot;</td><td>19651.0</td></tr><tr><td>&quot;null_count&quot;</td><td>&quot;4&quot;</td><td>0.0</td></tr><tr><td>&quot;mean&quot;</td><td>null</td><td>0.191186</td></tr><tr><td>&quot;std&quot;</td><td>null</td><td>0.393245</td></tr><tr><td>&quot;min&quot;</td><td>&quot;\r\n",
       "I meant:&nbsp;&nbsp;length() != 0\r\n",
       "I t…</td><td>0.0</td></tr><tr><td>&quot;25%&quot;</td><td>null</td><td>0.0</td></tr><tr><td>&quot;50%&quot;</td><td>null</td><td>0.0</td></tr><tr><td>&quot;75%&quot;</td><td>null</td><td>0.0</td></tr><tr><td>&quot;max&quot;</td><td>&quot;Ãƒâ€žck&quot;</td><td>1.0</td></tr></tbody></table></div>"
      ],
      "text/plain": [
       "shape: (9, 3)\n",
       "┌────────────┬──────────────────────────┬──────────┐\n",
       "│ statistic  ┆ message                  ┆ is_toxic │\n",
       "│ ---        ┆ ---                      ┆ ---      │\n",
       "│ str        ┆ str                      ┆ f64      │\n",
       "╞════════════╪══════════════════════════╪══════════╡\n",
       "│ count      ┆ 19647                    ┆ 19651.0  │\n",
       "│ null_count ┆ 4                        ┆ 0.0      │\n",
       "│ mean       ┆ null                     ┆ 0.191186 │\n",
       "│ std        ┆ null                     ┆ 0.393245 │\n",
       "│ min        ┆ \n",
       "                        ┆ 0.0      │\n",
       "│            ┆ I meant:  length() != 0\n",
       " ┆          │\n",
       "│            ┆ I t…                     ┆          │\n",
       "│ 25%        ┆ null                     ┆ 0.0      │\n",
       "│ 50%        ┆ null                     ┆ 0.0      │\n",
       "│ 75%        ┆ null                     ┆ 0.0      │\n",
       "│ max        ┆ Ãƒâ€žck                  ┆ 1.0      │\n",
       "└────────────┴──────────────────────────┴──────────┘"
      ]
     },
     "execution_count": 8,
     "metadata": {},
     "output_type": "execute_result"
    }
   ],
   "source": [
    "(\n",
    "    df\n",
    "    .describe()\n",
    ")"
   ]
  },
  {
   "cell_type": "markdown",
   "id": "6a31320c",
   "metadata": {},
   "source": [
    "# Check preprocess results"
   ]
  },
  {
   "cell_type": "code",
   "execution_count": 2,
   "id": "4d8aa0b1",
   "metadata": {},
   "outputs": [],
   "source": [
    "PREPARED_DATA_PATH = \"/mnt/c/Users/Sergey/Desktop/VSCode/Study/ai4se_gnusarev_1/data/prepared_dataset.xlsx\""
   ]
  },
  {
   "cell_type": "code",
   "execution_count": 3,
   "id": "25b85aea",
   "metadata": {},
   "outputs": [],
   "source": [
    "df = pl.read_excel(PREPARED_DATA_PATH)"
   ]
  },
  {
   "cell_type": "code",
   "execution_count": 4,
   "id": "1faeeb44",
   "metadata": {},
   "outputs": [
    {
     "data": {
      "text/html": [
       "<div><style>\n",
       ".dataframe > thead > tr,\n",
       ".dataframe > tbody > tr {\n",
       "  text-align: right;\n",
       "  white-space: pre-wrap;\n",
       "}\n",
       "</style>\n",
       "<small>shape: (5, 2)</small><table border=\"1\" class=\"dataframe\"><thead><tr><th>message</th><th>is_toxic</th></tr><tr><td>str</td><td>i64</td></tr></thead><tbody><tr><td>&quot;this is an abuse of methodrefe…</td><td>0</td></tr><tr><td>&quot;gross&nbsp;&nbsp;seems odd that the scal…</td><td>0</td></tr><tr><td>&quot;not sure why this one is confu…</td><td>0</td></tr><tr><td>&quot;nit&nbsp;&nbsp;capitalize and remove the…</td><td>0</td></tr><tr><td>&quot;the whole setup is inefficient…</td><td>0</td></tr></tbody></table></div>"
      ],
      "text/plain": [
       "shape: (5, 2)\n",
       "┌─────────────────────────────────┬──────────┐\n",
       "│ message                         ┆ is_toxic │\n",
       "│ ---                             ┆ ---      │\n",
       "│ str                             ┆ i64      │\n",
       "╞═════════════════════════════════╪══════════╡\n",
       "│ this is an abuse of methodrefe… ┆ 0        │\n",
       "│ gross  seems odd that the scal… ┆ 0        │\n",
       "│ not sure why this one is confu… ┆ 0        │\n",
       "│ nit  capitalize and remove the… ┆ 0        │\n",
       "│ the whole setup is inefficient… ┆ 0        │\n",
       "└─────────────────────────────────┴──────────┘"
      ]
     },
     "execution_count": 4,
     "metadata": {},
     "output_type": "execute_result"
    }
   ],
   "source": [
    "df.head(5)"
   ]
  },
  {
   "cell_type": "code",
   "execution_count": 5,
   "id": "fd71c821",
   "metadata": {},
   "outputs": [
    {
     "data": {
      "text/html": [
       "<div><style>\n",
       ".dataframe > thead > tr,\n",
       ".dataframe > tbody > tr {\n",
       "  text-align: right;\n",
       "  white-space: pre-wrap;\n",
       "}\n",
       "</style>\n",
       "<small>shape: (9, 3)</small><table border=\"1\" class=\"dataframe\"><thead><tr><th>statistic</th><th>message</th><th>is_toxic</th></tr><tr><td>str</td><td>str</td><td>f64</td></tr></thead><tbody><tr><td>&quot;count&quot;</td><td>&quot;12825&quot;</td><td>12825.0</td></tr><tr><td>&quot;null_count&quot;</td><td>&quot;0&quot;</td><td>0.0</td></tr><tr><td>&quot;mean&quot;</td><td>null</td><td>0.193684</td></tr><tr><td>&quot;std&quot;</td><td>null</td><td>0.3952</td></tr><tr><td>&quot;min&quot;</td><td>&quot;&nbsp;&nbsp;&nbsp;&nbsp;&quot;</td><td>0.0</td></tr><tr><td>&quot;25%&quot;</td><td>null</td><td>0.0</td></tr><tr><td>&quot;50%&quot;</td><td>null</td><td>0.0</td></tr><tr><td>&quot;75%&quot;</td><td>null</td><td>0.0</td></tr><tr><td>&quot;max&quot;</td><td>&quot;zull zuul&quot;</td><td>1.0</td></tr></tbody></table></div>"
      ],
      "text/plain": [
       "shape: (9, 3)\n",
       "┌────────────┬───────────┬──────────┐\n",
       "│ statistic  ┆ message   ┆ is_toxic │\n",
       "│ ---        ┆ ---       ┆ ---      │\n",
       "│ str        ┆ str       ┆ f64      │\n",
       "╞════════════╪═══════════╪══════════╡\n",
       "│ count      ┆ 12825     ┆ 12825.0  │\n",
       "│ null_count ┆ 0         ┆ 0.0      │\n",
       "│ mean       ┆ null      ┆ 0.193684 │\n",
       "│ std        ┆ null      ┆ 0.3952   │\n",
       "│ min        ┆           ┆ 0.0      │\n",
       "│ 25%        ┆ null      ┆ 0.0      │\n",
       "│ 50%        ┆ null      ┆ 0.0      │\n",
       "│ 75%        ┆ null      ┆ 0.0      │\n",
       "│ max        ┆ zull zuul ┆ 1.0      │\n",
       "└────────────┴───────────┴──────────┘"
      ]
     },
     "execution_count": 5,
     "metadata": {},
     "output_type": "execute_result"
    }
   ],
   "source": [
    "df.describe()"
   ]
  },
  {
   "cell_type": "code",
   "execution_count": 6,
   "id": "85b2214e",
   "metadata": {},
   "outputs": [],
   "source": [
    "import numpy as np"
   ]
  },
  {
   "cell_type": "code",
   "execution_count": 12,
   "id": "92d310ef",
   "metadata": {},
   "outputs": [],
   "source": [
    "dist = np.random.binomial(1, 0.8, size=1000)"
   ]
  },
  {
   "cell_type": "code",
   "execution_count": 13,
   "id": "4f876592",
   "metadata": {},
   "outputs": [
    {
     "data": {
      "text/plain": [
       "np.int64(807)"
      ]
     },
     "execution_count": 13,
     "metadata": {},
     "output_type": "execute_result"
    }
   ],
   "source": [
    "sum(dist)"
   ]
  },
  {
   "cell_type": "code",
   "execution_count": null,
   "id": "4895c6e1",
   "metadata": {},
   "outputs": [],
   "source": []
  }
 ],
 "metadata": {
  "kernelspec": {
   "display_name": "ai4se-gnusarev-1-py3.12",
   "language": "python",
   "name": "python3"
  },
  "language_info": {
   "codemirror_mode": {
    "name": "ipython",
    "version": 3
   },
   "file_extension": ".py",
   "mimetype": "text/x-python",
   "name": "python",
   "nbconvert_exporter": "python",
   "pygments_lexer": "ipython3",
   "version": "3.12.3"
  }
 },
 "nbformat": 4,
 "nbformat_minor": 5
}
