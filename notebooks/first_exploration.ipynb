{
 "cells": [
  {
   "cell_type": "code",
   "execution_count": null,
   "id": "76bba6b0",
   "metadata": {},
   "outputs": [],
   "source": [
    "import polars as pl"
   ]
  },
  {
   "cell_type": "code",
   "execution_count": null,
   "id": "d89e1354",
   "metadata": {},
   "outputs": [],
   "source": [
    "DATA_PATH = \"/mnt/c/Users/Sergey/Desktop/VSCode/Study/ai4se_gnusarev_1/data/code-review-dataset-full.xlsx\""
   ]
  },
  {
   "cell_type": "code",
   "execution_count": null,
   "id": "8deec1fa",
   "metadata": {},
   "outputs": [],
   "source": [
    "df = pl.read_excel(DATA_PATH)"
   ]
  },
  {
   "cell_type": "code",
   "execution_count": null,
   "id": "33324d27",
   "metadata": {},
   "outputs": [],
   "source": [
    "df.head(5)"
   ]
  },
  {
   "cell_type": "code",
   "execution_count": null,
   "id": "59f4eadf",
   "metadata": {},
   "outputs": [],
   "source": [
    "(\n",
    "    df\n",
    "    .describe()\n",
    ")"
   ]
  },
  {
   "cell_type": "markdown",
   "id": "6a31320c",
   "metadata": {},
   "source": [
    "# Check preprocess results"
   ]
  },
  {
   "cell_type": "code",
   "execution_count": null,
   "id": "4d8aa0b1",
   "metadata": {},
   "outputs": [],
   "source": [
    "PREPARED_DATA_PATH = \"/mnt/c/Users/Sergey/Desktop/VSCode/Study/ai4se_gnusarev_1/data/prepared_dataset.xlsx\""
   ]
  },
  {
   "cell_type": "code",
   "execution_count": null,
   "id": "25b85aea",
   "metadata": {},
   "outputs": [],
   "source": [
    "df = pl.read_excel(PREPARED_DATA_PATH)"
   ]
  },
  {
   "cell_type": "code",
   "execution_count": null,
   "id": "1faeeb44",
   "metadata": {},
   "outputs": [],
   "source": [
    "df.head(5)"
   ]
  },
  {
   "cell_type": "code",
   "execution_count": null,
   "id": "fd71c821",
   "metadata": {},
   "outputs": [],
   "source": [
    "df.describe()"
   ]
  },
  {
   "cell_type": "code",
   "execution_count": null,
   "id": "4895c6e1",
   "metadata": {},
   "outputs": [],
   "source": [
    "from transformers import AutoModelForSequenceClassification"
   ]
  },
  {
   "cell_type": "code",
   "execution_count": null,
   "id": "b2c01a5b",
   "metadata": {},
   "outputs": [],
   "source": [
    "model = AutoModelForSequenceClassification.from_pretrained(\n",
    "    \"roberta-base\",\n",
    "    cache_dir=\"/mnt/c/Users/SGnusarev/Desktop/VSCode/ai4se_gnusarev_1/.cache\",\n",
    "    use_safetensors=True,\n",
    "    num_labels=2,\n",
    ")"
   ]
  },
  {
   "cell_type": "code",
   "execution_count": null,
   "id": "e12d8027",
   "metadata": {},
   "outputs": [],
   "source": []
  }
 ],
 "metadata": {
  "kernelspec": {
   "display_name": "ai4se-gnusarev-1-py3.12",
   "language": "python",
   "name": "python3"
  },
  "language_info": {
   "codemirror_mode": {
    "name": "ipython",
    "version": 3
   },
   "file_extension": ".py",
   "mimetype": "text/x-python",
   "name": "python",
   "nbconvert_exporter": "python",
   "pygments_lexer": "ipython3",
   "version": "3.12.11"
  }
 },
 "nbformat": 4,
 "nbformat_minor": 5
}
